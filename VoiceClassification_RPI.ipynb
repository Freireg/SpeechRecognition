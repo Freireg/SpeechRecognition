{
  "nbformat": 4,
  "nbformat_minor": 0,
  "metadata": {
    "colab": {
      "name": "VoiceClassification_RPI.ipynb",
      "provenance": [],
      "authorship_tag": "ABX9TyO9NX+i82t/stI7t0lin/pW",
      "include_colab_link": true
    },
    "kernelspec": {
      "name": "python3",
      "display_name": "Python 3"
    },
    "language_info": {
      "name": "python"
    }
  },
  "cells": [
    {
      "cell_type": "markdown",
      "metadata": {
        "id": "view-in-github",
        "colab_type": "text"
      },
      "source": [
        "<a href=\"https://colab.research.google.com/github/Freireg/SpeechRecognition/blob/main/VoiceClassification_RPI.ipynb\" target=\"_parent\"><img src=\"https://colab.research.google.com/assets/colab-badge.svg\" alt=\"Open In Colab\"/></a>"
      ]
    },
    {
      "cell_type": "code",
      "execution_count": 90,
      "metadata": {
        "id": "NWCv4gb1yopP"
      },
      "outputs": [],
      "source": [
        "from os import listdir\n",
        "from os.path import isdir, join\n",
        "from tensorflow.keras import layers, models\n",
        "import numpy as np\n",
        "from google.colab import drive"
      ]
    },
    {
      "cell_type": "code",
      "source": [
        "#drive.mount('Machine_Learning_Dataset')\n",
        "dataset_path = '/content/Machine_Learning_Dataset/MyDrive/Machine_Learning_Dataset/Datasets'\n",
        "all_targets = all_targets = [name for name in listdir(dataset_path) if isdir(join(dataset_path, name))]\n",
        "all_targets.remove('_background_noise_')\n",
        "print(all_targets)"
      ],
      "metadata": {
        "colab": {
          "base_uri": "https://localhost:8080/"
        },
        "id": "Ig_s6xVOyy8p",
        "outputId": "291a93ca-01d3-488c-d6ee-659b512524b0"
      },
      "execution_count": 91,
      "outputs": [
        {
          "output_type": "stream",
          "name": "stdout",
          "text": [
            "['follow', 'backward', 'bed', 'bird', 'cat', 'dog', 'down', 'zero']\n"
          ]
        }
      ]
    },
    {
      "cell_type": "code",
      "source": [
        "# Settings\n",
        "feature_sets_path = '/content/Machine_Learning_Dataset/MyDrive/Machine_Learning_Dataset/all_targets_mfcc_sets.npz'\n",
        "feature_sets_filename = '/content/Machine_Learning_Dataset/MyDrive/Machine_Learning_Dataset/all_targets_mfcc_sets.npz'\n",
        "model_filename = '/content/Machine_Learning_Dataset/MyDrive/Machine_Learning_Dataset/wake_word_follow_model.h5'\n",
        "wake_word = 'follow'"
      ],
      "metadata": {
        "id": "twy9rQLDzrmR"
      },
      "execution_count": 92,
      "outputs": []
    },
    {
      "cell_type": "code",
      "source": [
        "# Load feature sets\n",
        "feature_sets = np.load(join(feature_sets_path, feature_sets_filename))\n",
        "print(feature_sets.files)"
      ],
      "metadata": {
        "colab": {
          "base_uri": "https://localhost:8080/"
        },
        "id": "SzWL0ITOz1PO",
        "outputId": "9ab42e63-c50b-4bf7-c864-52b89d6edee7"
      },
      "execution_count": 93,
      "outputs": [
        {
          "output_type": "stream",
          "name": "stdout",
          "text": [
            "['x_train', 'y_train', 'x_val', 'y_val', 'x_test', 'y_test']\n"
          ]
        }
      ]
    },
    {
      "cell_type": "code",
      "source": [
        "# Assign feature sets\n",
        "x_train = feature_sets['x_train']\n",
        "y_train = feature_sets['y_train']\n",
        "x_val = feature_sets['x_val']\n",
        "y_val = feature_sets['y_val']\n",
        "x_test = feature_sets['x_test']\n",
        "y_test = feature_sets['y_test']"
      ],
      "metadata": {
        "id": "ebZTWYx80GCh"
      },
      "execution_count": 94,
      "outputs": []
    },
    {
      "cell_type": "code",
      "source": [
        "# Look at tensor dimensions\n",
        "print(x_train.shape)\n",
        "print(x_val.shape)\n",
        "print(x_test.shape)"
      ],
      "metadata": {
        "colab": {
          "base_uri": "https://localhost:8080/"
        },
        "id": "uxyveukM0J29",
        "outputId": "90846a27-daa3-435f-fb5b-25d894d21007"
      },
      "execution_count": 95,
      "outputs": [
        {
          "output_type": "stream",
          "name": "stdout",
          "text": [
            "(7107, 16, 16)\n",
            "(901, 16, 16)\n",
            "(884, 16, 16)\n"
          ]
        }
      ]
    },
    {
      "cell_type": "code",
      "source": [
        "# Peek at labels\n",
        "print(y_val)"
      ],
      "metadata": {
        "colab": {
          "base_uri": "https://localhost:8080/"
        },
        "id": "NlVbQE1E0LPG",
        "outputId": "51a931ae-2225-4b82-c0f3-a1755c0947f2"
      },
      "execution_count": 96,
      "outputs": [
        {
          "output_type": "stream",
          "name": "stdout",
          "text": [
            "[5. 0. 2. 2. 4. 4. 5. 0. 4. 3. 0. 1. 5. 5. 4. 3. 5. 2. 0. 4. 1. 4. 5. 3.\n",
            " 4. 3. 0. 4. 2. 2. 2. 4. 3. 5. 0. 3. 2. 5. 2. 5. 2. 3. 0. 2. 5. 3. 5. 0.\n",
            " 5. 5. 4. 0. 3. 2. 0. 5. 4. 3. 0. 5. 4. 0. 1. 5. 4. 0. 2. 0. 4. 3. 0. 4.\n",
            " 0. 4. 4. 2. 0. 3. 0. 0. 2. 5. 2. 3. 4. 5. 3. 2. 4. 5. 2. 4. 0. 2. 4. 0.\n",
            " 5. 5. 2. 5. 0. 5. 4. 2. 5. 5. 0. 5. 4. 5. 1. 4. 2. 5. 5. 4. 4. 4. 0. 4.\n",
            " 3. 5. 5. 3. 2. 3. 3. 5. 4. 0. 3. 0. 5. 0. 4. 5. 2. 0. 5. 5. 0. 4. 5. 5.\n",
            " 3. 0. 5. 2. 2. 0. 0. 0. 0. 2. 4. 5. 2. 5. 2. 2. 4. 0. 3. 3. 4. 5. 2. 2.\n",
            " 2. 3. 0. 3. 0. 2. 5. 2. 5. 4. 0. 3. 0. 4. 0. 4. 3. 2. 2. 3. 3. 5. 5. 4.\n",
            " 3. 5. 3. 4. 3. 2. 3. 1. 4. 0. 3. 0. 4. 4. 3. 5. 0. 2. 5. 0. 0. 4. 0. 0.\n",
            " 5. 5. 4. 4. 3. 0. 2. 0. 2. 5. 3. 2. 2. 4. 1. 4. 0. 4. 5. 5. 3. 3. 4. 5.\n",
            " 4. 2. 4. 3. 0. 0. 0. 3. 4. 3. 1. 4. 0. 3. 5. 2. 4. 5. 4. 0. 2. 4. 4. 5.\n",
            " 4. 4. 5. 3. 5. 2. 2. 4. 3. 0. 0. 3. 3. 3. 3. 2. 4. 3. 1. 3. 4. 3. 4. 3.\n",
            " 0. 0. 0. 2. 4. 2. 3. 1. 4. 0. 2. 0. 4. 4. 5. 3. 5. 5. 2. 0. 4. 2. 2. 1.\n",
            " 2. 4. 5. 3. 4. 3. 0. 4. 5. 2. 5. 5. 4. 3. 4. 2. 0. 4. 4. 2. 3. 5. 2. 4.\n",
            " 3. 0. 3. 2. 4. 2. 5. 5. 4. 4. 5. 5. 5. 4. 5. 0. 2. 3. 5. 0. 0. 2. 0. 0.\n",
            " 3. 5. 1. 4. 0. 0. 3. 4. 3. 0. 4. 5. 4. 4. 1. 5. 0. 0. 2. 0. 5. 3. 4. 4.\n",
            " 5. 2. 3. 3. 5. 5. 3. 4. 3. 5. 3. 0. 0. 5. 5. 3. 4. 3. 3. 2. 4. 3. 3. 5.\n",
            " 3. 4. 0. 5. 2. 3. 3. 3. 2. 5. 2. 5. 1. 3. 4. 3. 2. 0. 3. 0. 3. 5. 3. 3.\n",
            " 3. 2. 3. 0. 3. 0. 4. 2. 4. 3. 2. 5. 2. 3. 3. 4. 5. 3. 0. 0. 4. 0. 2. 2.\n",
            " 4. 3. 0. 4. 5. 5. 1. 5. 4. 0. 5. 3. 3. 3. 3. 3. 4. 0. 5. 3. 2. 1. 0. 5.\n",
            " 2. 4. 5. 2. 5. 2. 4. 2. 4. 3. 0. 2. 2. 2. 0. 4. 4. 3. 2. 3. 4. 4. 3. 3.\n",
            " 5. 3. 2. 3. 3. 0. 3. 5. 4. 4. 4. 0. 2. 5. 0. 0. 2. 4. 0. 3. 0. 0. 0. 2.\n",
            " 1. 3. 5. 2. 2. 3. 4. 2. 2. 5. 4. 3. 1. 2. 0. 2. 0. 4. 4. 5. 4. 5. 3. 2.\n",
            " 4. 3. 4. 5. 0. 4. 3. 0. 2. 4. 3. 3. 5. 5. 4. 3. 2. 2. 3. 4. 2. 4. 5. 2.\n",
            " 3. 2. 2. 4. 3. 5. 2. 3. 5. 3. 2. 5. 1. 2. 5. 5. 0. 5. 4. 4. 2. 0. 2. 0.\n",
            " 4. 4. 5. 5. 0. 3. 2. 0. 0. 2. 1. 1. 4. 2. 4. 4. 4. 0. 5. 5. 3. 3. 2. 5.\n",
            " 2. 4. 0. 3. 0. 3. 2. 5. 4. 2. 0. 0. 4. 3. 3. 4. 4. 3. 0. 2. 0. 3. 4. 3.\n",
            " 2. 0. 0. 1. 1. 5. 5. 2. 2. 0. 3. 0. 0. 5. 5. 4. 3. 3. 5. 5. 3. 5. 3. 2.\n",
            " 0. 1. 5. 2. 0. 4. 4. 2. 2. 0. 4. 4. 0. 4. 2. 5. 3. 5. 3. 5. 4. 5. 0. 2.\n",
            " 0. 0. 4. 3. 3. 3. 3. 5. 5. 5. 2. 4. 5. 4. 0. 1. 4. 2. 3. 5. 2. 2. 5. 5.\n",
            " 4. 4. 5. 2. 3. 4. 3. 2. 5. 3. 2. 0. 2. 3. 4. 0. 4. 5. 4. 3. 5. 4. 3. 0.\n",
            " 4. 5. 2. 4. 5. 4. 4. 2. 2. 5. 0. 4. 0. 5. 4. 0. 3. 4. 4. 3. 4. 2. 4. 4.\n",
            " 4. 0. 5. 5. 2. 3. 5. 3. 5. 2. 3. 3. 3. 4. 0. 0. 5. 4. 5. 0. 4. 4. 4. 2.\n",
            " 1. 4. 4. 3. 3. 5. 5. 2. 1. 4. 2. 0. 2. 1. 3. 3. 3. 4. 4. 5. 0. 5. 4. 4.\n",
            " 0. 3. 4. 5. 4. 5. 4. 5. 3. 2. 4. 2. 5. 4. 2. 0. 4. 0. 3. 4. 2. 0. 2. 2.\n",
            " 0. 3. 5. 5. 4. 3. 5. 2. 5. 4. 4. 0. 2. 0. 4. 3. 3. 3. 2. 1. 0. 2. 4. 4.\n",
            " 3. 2. 5. 2. 2. 5. 2. 4. 5. 2. 0. 0. 5. 4. 3. 2. 2. 2. 4. 5. 0. 2. 4. 3.\n",
            " 4. 5. 5. 2. 4. 4. 0. 2. 3. 0. 0. 1. 3.]\n"
          ]
        }
      ]
    },
    {
      "cell_type": "code",
      "source": [
        "# Convert ground truth arrays to one wake word (1) and 'other' (0)\n",
        "wake_word_index = all_targets.index(wake_word)\n",
        "y_train = np.equal(y_train, wake_word_index).astype('float64')\n",
        "y_val = np.equal(y_val, wake_word_index).astype('float64')\n",
        "y_test = np.equal(y_test, wake_word_index).astype('float64')"
      ],
      "metadata": {
        "id": "lxdCrF8Q0NOm"
      },
      "execution_count": 97,
      "outputs": []
    },
    {
      "cell_type": "code",
      "source": [
        "# Peek at labels after conversion\n",
        "print(y_val)"
      ],
      "metadata": {
        "colab": {
          "base_uri": "https://localhost:8080/"
        },
        "id": "LWO2PWRW0QEq",
        "outputId": "16ce0c8e-10bf-4c7c-81cd-d11ff6e4219a"
      },
      "execution_count": 98,
      "outputs": [
        {
          "output_type": "stream",
          "name": "stdout",
          "text": [
            "[0. 1. 0. 0. 0. 0. 0. 1. 0. 0. 1. 0. 0. 0. 0. 0. 0. 0. 1. 0. 0. 0. 0. 0.\n",
            " 0. 0. 1. 0. 0. 0. 0. 0. 0. 0. 1. 0. 0. 0. 0. 0. 0. 0. 1. 0. 0. 0. 0. 1.\n",
            " 0. 0. 0. 1. 0. 0. 1. 0. 0. 0. 1. 0. 0. 1. 0. 0. 0. 1. 0. 1. 0. 0. 1. 0.\n",
            " 1. 0. 0. 0. 1. 0. 1. 1. 0. 0. 0. 0. 0. 0. 0. 0. 0. 0. 0. 0. 1. 0. 0. 1.\n",
            " 0. 0. 0. 0. 1. 0. 0. 0. 0. 0. 1. 0. 0. 0. 0. 0. 0. 0. 0. 0. 0. 0. 1. 0.\n",
            " 0. 0. 0. 0. 0. 0. 0. 0. 0. 1. 0. 1. 0. 1. 0. 0. 0. 1. 0. 0. 1. 0. 0. 0.\n",
            " 0. 1. 0. 0. 0. 1. 1. 1. 1. 0. 0. 0. 0. 0. 0. 0. 0. 1. 0. 0. 0. 0. 0. 0.\n",
            " 0. 0. 1. 0. 1. 0. 0. 0. 0. 0. 1. 0. 1. 0. 1. 0. 0. 0. 0. 0. 0. 0. 0. 0.\n",
            " 0. 0. 0. 0. 0. 0. 0. 0. 0. 1. 0. 1. 0. 0. 0. 0. 1. 0. 0. 1. 1. 0. 1. 1.\n",
            " 0. 0. 0. 0. 0. 1. 0. 1. 0. 0. 0. 0. 0. 0. 0. 0. 1. 0. 0. 0. 0. 0. 0. 0.\n",
            " 0. 0. 0. 0. 1. 1. 1. 0. 0. 0. 0. 0. 1. 0. 0. 0. 0. 0. 0. 1. 0. 0. 0. 0.\n",
            " 0. 0. 0. 0. 0. 0. 0. 0. 0. 1. 1. 0. 0. 0. 0. 0. 0. 0. 0. 0. 0. 0. 0. 0.\n",
            " 1. 1. 1. 0. 0. 0. 0. 0. 0. 1. 0. 1. 0. 0. 0. 0. 0. 0. 0. 1. 0. 0. 0. 0.\n",
            " 0. 0. 0. 0. 0. 0. 1. 0. 0. 0. 0. 0. 0. 0. 0. 0. 1. 0. 0. 0. 0. 0. 0. 0.\n",
            " 0. 1. 0. 0. 0. 0. 0. 0. 0. 0. 0. 0. 0. 0. 0. 1. 0. 0. 0. 1. 1. 0. 1. 1.\n",
            " 0. 0. 0. 0. 1. 1. 0. 0. 0. 1. 0. 0. 0. 0. 0. 0. 1. 1. 0. 1. 0. 0. 0. 0.\n",
            " 0. 0. 0. 0. 0. 0. 0. 0. 0. 0. 0. 1. 1. 0. 0. 0. 0. 0. 0. 0. 0. 0. 0. 0.\n",
            " 0. 0. 1. 0. 0. 0. 0. 0. 0. 0. 0. 0. 0. 0. 0. 0. 0. 1. 0. 1. 0. 0. 0. 0.\n",
            " 0. 0. 0. 1. 0. 1. 0. 0. 0. 0. 0. 0. 0. 0. 0. 0. 0. 0. 1. 1. 0. 1. 0. 0.\n",
            " 0. 0. 1. 0. 0. 0. 0. 0. 0. 1. 0. 0. 0. 0. 0. 0. 0. 1. 0. 0. 0. 0. 1. 0.\n",
            " 0. 0. 0. 0. 0. 0. 0. 0. 0. 0. 1. 0. 0. 0. 1. 0. 0. 0. 0. 0. 0. 0. 0. 0.\n",
            " 0. 0. 0. 0. 0. 1. 0. 0. 0. 0. 0. 1. 0. 0. 1. 1. 0. 0. 1. 0. 1. 1. 1. 0.\n",
            " 0. 0. 0. 0. 0. 0. 0. 0. 0. 0. 0. 0. 0. 0. 1. 0. 1. 0. 0. 0. 0. 0. 0. 0.\n",
            " 0. 0. 0. 0. 1. 0. 0. 1. 0. 0. 0. 0. 0. 0. 0. 0. 0. 0. 0. 0. 0. 0. 0. 0.\n",
            " 0. 0. 0. 0. 0. 0. 0. 0. 0. 0. 0. 0. 0. 0. 0. 0. 1. 0. 0. 0. 0. 1. 0. 1.\n",
            " 0. 0. 0. 0. 1. 0. 0. 1. 1. 0. 0. 0. 0. 0. 0. 0. 0. 1. 0. 0. 0. 0. 0. 0.\n",
            " 0. 0. 1. 0. 1. 0. 0. 0. 0. 0. 1. 1. 0. 0. 0. 0. 0. 0. 1. 0. 1. 0. 0. 0.\n",
            " 0. 1. 1. 0. 0. 0. 0. 0. 0. 1. 0. 1. 1. 0. 0. 0. 0. 0. 0. 0. 0. 0. 0. 0.\n",
            " 1. 0. 0. 0. 1. 0. 0. 0. 0. 1. 0. 0. 1. 0. 0. 0. 0. 0. 0. 0. 0. 0. 1. 0.\n",
            " 1. 1. 0. 0. 0. 0. 0. 0. 0. 0. 0. 0. 0. 0. 1. 0. 0. 0. 0. 0. 0. 0. 0. 0.\n",
            " 0. 0. 0. 0. 0. 0. 0. 0. 0. 0. 0. 1. 0. 0. 0. 1. 0. 0. 0. 0. 0. 0. 0. 1.\n",
            " 0. 0. 0. 0. 0. 0. 0. 0. 0. 0. 1. 0. 1. 0. 0. 1. 0. 0. 0. 0. 0. 0. 0. 0.\n",
            " 0. 1. 0. 0. 0. 0. 0. 0. 0. 0. 0. 0. 0. 0. 1. 1. 0. 0. 0. 1. 0. 0. 0. 0.\n",
            " 0. 0. 0. 0. 0. 0. 0. 0. 0. 0. 0. 1. 0. 0. 0. 0. 0. 0. 0. 0. 1. 0. 0. 0.\n",
            " 1. 0. 0. 0. 0. 0. 0. 0. 0. 0. 0. 0. 0. 0. 0. 1. 0. 1. 0. 0. 0. 1. 0. 0.\n",
            " 1. 0. 0. 0. 0. 0. 0. 0. 0. 0. 0. 1. 0. 1. 0. 0. 0. 0. 0. 0. 1. 0. 0. 0.\n",
            " 0. 0. 0. 0. 0. 0. 0. 0. 0. 0. 1. 1. 0. 0. 0. 0. 0. 0. 0. 0. 1. 0. 0. 0.\n",
            " 0. 0. 0. 0. 0. 0. 1. 0. 0. 1. 1. 0. 0.]\n"
          ]
        }
      ]
    },
    {
      "cell_type": "code",
      "source": [
        "# What percentage of 'stop' appear in validation labels\n",
        "print(sum(y_val) / len(y_val))\n",
        "print(1 - sum(y_val) / len(y_val))"
      ],
      "metadata": {
        "colab": {
          "base_uri": "https://localhost:8080/"
        },
        "id": "PMFQEC9T0RrG",
        "outputId": "a9872259-5097-4b1d-9448-a7df556f4c4d"
      },
      "execution_count": 99,
      "outputs": [
        {
          "output_type": "stream",
          "name": "stdout",
          "text": [
            "0.17425083240843509\n",
            "0.8257491675915649\n"
          ]
        }
      ]
    },
    {
      "cell_type": "code",
      "source": [
        "# View the dimensions of our input data\n",
        "print(x_train.shape)"
      ],
      "metadata": {
        "colab": {
          "base_uri": "https://localhost:8080/"
        },
        "id": "9D4eDkkK0TWF",
        "outputId": "a181557e-ec34-43c0-c9f7-32a4c085bdb6"
      },
      "execution_count": 100,
      "outputs": [
        {
          "output_type": "stream",
          "name": "stdout",
          "text": [
            "(7107, 16, 16)\n"
          ]
        }
      ]
    },
    {
      "cell_type": "code",
      "source": [
        "# CNN for TF expects (batch, height, width, channels)\n",
        "# So we reshape the input tensors with a \"color\" channel of 1\n",
        "x_train = x_train.reshape(x_train.shape[0], \n",
        "                          x_train.shape[1], \n",
        "                          x_train.shape[2], \n",
        "                          1)\n",
        "x_val = x_val.reshape(x_val.shape[0], \n",
        "                      x_val.shape[1], \n",
        "                      x_val.shape[2], \n",
        "                      1)\n",
        "x_test = x_test.reshape(x_test.shape[0], \n",
        "                        x_test.shape[1], \n",
        "                        x_test.shape[2], \n",
        "                        1)\n",
        "print(x_train.shape)\n",
        "print(x_val.shape)\n",
        "print(x_test.shape)"
      ],
      "metadata": {
        "colab": {
          "base_uri": "https://localhost:8080/"
        },
        "id": "3okyy9nV0WhI",
        "outputId": "3a8ebcf8-7fd6-4113-eee8-e69256db3aa2"
      },
      "execution_count": 101,
      "outputs": [
        {
          "output_type": "stream",
          "name": "stdout",
          "text": [
            "(7107, 16, 16, 1)\n",
            "(901, 16, 16, 1)\n",
            "(884, 16, 16, 1)\n"
          ]
        }
      ]
    },
    {
      "cell_type": "code",
      "source": [
        "# Input shape for CNN is size of MFCC of 1 sample\n",
        "sample_shape = x_test.shape[1:]\n",
        "print(sample_shape)"
      ],
      "metadata": {
        "colab": {
          "base_uri": "https://localhost:8080/"
        },
        "id": "aXse03Yi0Zjj",
        "outputId": "f65b4d46-e1c6-4881-daa4-5dde932b2304"
      },
      "execution_count": 102,
      "outputs": [
        {
          "output_type": "stream",
          "name": "stdout",
          "text": [
            "(16, 16, 1)\n"
          ]
        }
      ]
    },
    {
      "cell_type": "code",
      "source": [
        "# Build model\n",
        "# Based on: https://www.geeksforgeeks.org/python-image-classification-using-keras/\n",
        "model = models.Sequential()\n",
        "model.add(layers.Conv2D(32, \n",
        "                        (2, 2), \n",
        "                        activation='relu',\n",
        "                        input_shape=sample_shape))\n",
        "model.add(layers.MaxPooling2D(pool_size=(2, 2)))\n",
        "\n",
        "model.add(layers.Conv2D(32, (2, 2), activation='relu'))\n",
        "model.add(layers.MaxPooling2D(pool_size=(2, 2)))\n",
        "\n",
        "model.add(layers.Conv2D(64, (2, 2), activation='relu'))\n",
        "model.add(layers.MaxPooling2D(pool_size=(2, 2)))\n",
        "\n",
        "# Classifier\n",
        "model.add(layers.Flatten())\n",
        "model.add(layers.Dense(64, activation='relu'))\n",
        "model.add(layers.Dropout(0.5))\n",
        "model.add(layers.Dense(1, activation='sigmoid'))"
      ],
      "metadata": {
        "id": "eBsZUjwF0bV9"
      },
      "execution_count": 103,
      "outputs": []
    },
    {
      "cell_type": "code",
      "source": [
        "# Display model\n",
        "model.summary()"
      ],
      "metadata": {
        "colab": {
          "base_uri": "https://localhost:8080/"
        },
        "id": "_FkHNjf-0dGm",
        "outputId": "9710980f-3320-41e3-d83b-897372a676ab"
      },
      "execution_count": 104,
      "outputs": [
        {
          "output_type": "stream",
          "name": "stdout",
          "text": [
            "Model: \"sequential_3\"\n",
            "_________________________________________________________________\n",
            " Layer (type)                Output Shape              Param #   \n",
            "=================================================================\n",
            " conv2d_9 (Conv2D)           (None, 15, 15, 32)        160       \n",
            "                                                                 \n",
            " max_pooling2d_9 (MaxPooling  (None, 7, 7, 32)         0         \n",
            " 2D)                                                             \n",
            "                                                                 \n",
            " conv2d_10 (Conv2D)          (None, 6, 6, 32)          4128      \n",
            "                                                                 \n",
            " max_pooling2d_10 (MaxPoolin  (None, 3, 3, 32)         0         \n",
            " g2D)                                                            \n",
            "                                                                 \n",
            " conv2d_11 (Conv2D)          (None, 2, 2, 64)          8256      \n",
            "                                                                 \n",
            " max_pooling2d_11 (MaxPoolin  (None, 1, 1, 64)         0         \n",
            " g2D)                                                            \n",
            "                                                                 \n",
            " flatten_3 (Flatten)         (None, 64)                0         \n",
            "                                                                 \n",
            " dense_6 (Dense)             (None, 64)                4160      \n",
            "                                                                 \n",
            " dropout_3 (Dropout)         (None, 64)                0         \n",
            "                                                                 \n",
            " dense_7 (Dense)             (None, 1)                 65        \n",
            "                                                                 \n",
            "=================================================================\n",
            "Total params: 16,769\n",
            "Trainable params: 16,769\n",
            "Non-trainable params: 0\n",
            "_________________________________________________________________\n"
          ]
        }
      ]
    },
    {
      "cell_type": "code",
      "source": [
        "# Add training parameters to model\n",
        "model.compile(loss='binary_crossentropy', \n",
        "              optimizer='rmsprop', \n",
        "              metrics=['acc'])"
      ],
      "metadata": {
        "id": "FIBezuFY0ezF"
      },
      "execution_count": 105,
      "outputs": []
    },
    {
      "cell_type": "code",
      "source": [
        "# Train\n",
        "history = model.fit(x_train, \n",
        "                    y_train, \n",
        "                    epochs=30, \n",
        "                    batch_size=100, \n",
        "                    validation_data=(x_val, y_val))"
      ],
      "metadata": {
        "colab": {
          "base_uri": "https://localhost:8080/"
        },
        "id": "QLd3BspD0gXB",
        "outputId": "57a365a2-b003-4958-af03-0cda52b01862"
      },
      "execution_count": 106,
      "outputs": [
        {
          "output_type": "stream",
          "name": "stdout",
          "text": [
            "Epoch 1/30\n",
            "72/72 [==============================] - 4s 40ms/step - loss: 0.4519 - acc: 0.8255 - val_loss: 0.3094 - val_acc: 0.8901\n",
            "Epoch 2/30\n",
            "72/72 [==============================] - 3s 38ms/step - loss: 0.2792 - acc: 0.8928 - val_loss: 0.2489 - val_acc: 0.9145\n",
            "Epoch 3/30\n",
            "72/72 [==============================] - 3s 38ms/step - loss: 0.2083 - acc: 0.9242 - val_loss: 0.1583 - val_acc: 0.9467\n",
            "Epoch 4/30\n",
            "72/72 [==============================] - 3s 39ms/step - loss: 0.1720 - acc: 0.9356 - val_loss: 0.2014 - val_acc: 0.9334\n",
            "Epoch 5/30\n",
            "72/72 [==============================] - 3s 40ms/step - loss: 0.1429 - acc: 0.9491 - val_loss: 0.2035 - val_acc: 0.9079\n",
            "Epoch 6/30\n",
            "72/72 [==============================] - 3s 37ms/step - loss: 0.1309 - acc: 0.9530 - val_loss: 0.2576 - val_acc: 0.9179\n",
            "Epoch 7/30\n",
            "72/72 [==============================] - 3s 40ms/step - loss: 0.1100 - acc: 0.9592 - val_loss: 0.1163 - val_acc: 0.9656\n",
            "Epoch 8/30\n",
            "72/72 [==============================] - 3s 41ms/step - loss: 0.1056 - acc: 0.9645 - val_loss: 0.1017 - val_acc: 0.9623\n",
            "Epoch 9/30\n",
            "72/72 [==============================] - 3s 39ms/step - loss: 0.0889 - acc: 0.9676 - val_loss: 0.0971 - val_acc: 0.9678\n",
            "Epoch 10/30\n",
            "72/72 [==============================] - 3s 46ms/step - loss: 0.0820 - acc: 0.9710 - val_loss: 0.2439 - val_acc: 0.9434\n",
            "Epoch 11/30\n",
            "72/72 [==============================] - 3s 36ms/step - loss: 0.0765 - acc: 0.9724 - val_loss: 0.1328 - val_acc: 0.9634\n",
            "Epoch 12/30\n",
            "72/72 [==============================] - 2s 33ms/step - loss: 0.0703 - acc: 0.9738 - val_loss: 0.7295 - val_acc: 0.8646\n",
            "Epoch 13/30\n",
            "72/72 [==============================] - 3s 39ms/step - loss: 0.0750 - acc: 0.9758 - val_loss: 0.1024 - val_acc: 0.9689\n",
            "Epoch 14/30\n",
            "72/72 [==============================] - 3s 40ms/step - loss: 0.0649 - acc: 0.9769 - val_loss: 0.1421 - val_acc: 0.9412\n",
            "Epoch 15/30\n",
            "72/72 [==============================] - 2s 34ms/step - loss: 0.0621 - acc: 0.9789 - val_loss: 0.0989 - val_acc: 0.9656\n",
            "Epoch 16/30\n",
            "72/72 [==============================] - 2s 24ms/step - loss: 0.0529 - acc: 0.9807 - val_loss: 0.1341 - val_acc: 0.9623\n",
            "Epoch 17/30\n",
            "72/72 [==============================] - 1s 20ms/step - loss: 0.0484 - acc: 0.9835 - val_loss: 0.1099 - val_acc: 0.9667\n",
            "Epoch 18/30\n",
            "72/72 [==============================] - 1s 20ms/step - loss: 0.0457 - acc: 0.9838 - val_loss: 0.1030 - val_acc: 0.9612\n",
            "Epoch 19/30\n",
            "72/72 [==============================] - 1s 21ms/step - loss: 0.0412 - acc: 0.9834 - val_loss: 0.0934 - val_acc: 0.9700\n",
            "Epoch 20/30\n",
            "72/72 [==============================] - 1s 20ms/step - loss: 0.0419 - acc: 0.9851 - val_loss: 0.0874 - val_acc: 0.9734\n",
            "Epoch 21/30\n",
            "72/72 [==============================] - 1s 20ms/step - loss: 0.0389 - acc: 0.9873 - val_loss: 0.0833 - val_acc: 0.9745\n",
            "Epoch 22/30\n",
            "72/72 [==============================] - 1s 21ms/step - loss: 0.0337 - acc: 0.9878 - val_loss: 0.3617 - val_acc: 0.9367\n",
            "Epoch 23/30\n",
            "72/72 [==============================] - 1s 20ms/step - loss: 0.0354 - acc: 0.9886 - val_loss: 0.3239 - val_acc: 0.9134\n",
            "Epoch 24/30\n",
            "72/72 [==============================] - 1s 20ms/step - loss: 0.0350 - acc: 0.9889 - val_loss: 0.0996 - val_acc: 0.9723\n",
            "Epoch 25/30\n",
            "72/72 [==============================] - 1s 20ms/step - loss: 0.0271 - acc: 0.9900 - val_loss: 0.0950 - val_acc: 0.9734\n",
            "Epoch 26/30\n",
            "72/72 [==============================] - 1s 20ms/step - loss: 0.0289 - acc: 0.9914 - val_loss: 0.1035 - val_acc: 0.9689\n",
            "Epoch 27/30\n",
            "72/72 [==============================] - 1s 20ms/step - loss: 0.0302 - acc: 0.9909 - val_loss: 0.0859 - val_acc: 0.9711\n",
            "Epoch 28/30\n",
            "72/72 [==============================] - 1s 20ms/step - loss: 0.0181 - acc: 0.9937 - val_loss: 0.1345 - val_acc: 0.9556\n",
            "Epoch 29/30\n",
            "72/72 [==============================] - 1s 20ms/step - loss: 0.0218 - acc: 0.9913 - val_loss: 0.3797 - val_acc: 0.9467\n",
            "Epoch 30/30\n",
            "72/72 [==============================] - 1s 20ms/step - loss: 0.0213 - acc: 0.9921 - val_loss: 0.1245 - val_acc: 0.9723\n"
          ]
        }
      ]
    },
    {
      "cell_type": "code",
      "source": [
        "# Plot results\n",
        "import matplotlib.pyplot as plt\n",
        "\n",
        "acc = history.history['acc']\n",
        "val_acc = history.history['val_acc']\n",
        "loss = history.history['loss']\n",
        "val_loss = history.history['val_loss']\n",
        "\n",
        "epochs = range(1, len(acc) + 1)\n",
        "\n",
        "plt.plot(epochs, acc, 'bo', label='Training acc')\n",
        "plt.plot(epochs, val_acc, 'b', label='Validation acc')\n",
        "plt.title('Training and validation accuracy')\n",
        "plt.legend()\n",
        "\n",
        "plt.figure()\n",
        "\n",
        "plt.plot(epochs, loss, 'bo', label='Training loss')\n",
        "plt.plot(epochs, val_loss, 'b', label='Validation loss')\n",
        "plt.title('Training and validation loss')\n",
        "plt.legend()\n",
        "\n",
        "plt.show()"
      ],
      "metadata": {
        "colab": {
          "base_uri": "https://localhost:8080/",
          "height": 545
        },
        "id": "zrCfw5-30lEj",
        "outputId": "27e26e35-89c6-42d1-c47b-152a349618c5"
      },
      "execution_count": 107,
      "outputs": [
        {
          "output_type": "display_data",
          "data": {
            "image/png": "[encoded data removed]",
            "text/plain": [
              "<Figure size 432x288 with 1 Axes>"
            ]
          },
          "metadata": {
            "needs_background": "light"
          }
        },
        {
          "output_type": "display_data",
          "data": {
            "image/png": "[encoded data removed]",
            "text/plain": [
              "<Figure size 432x288 with 1 Axes>"
            ]
          },
          "metadata": {
            "needs_background": "light"
          }
        }
      ]
    },
    {
      "cell_type": "code",
      "source": [
        "# Save the model as a file\n",
        "models.save_model(model, model_filename)"
      ],
      "metadata": {
        "id": "RJFs5qB_0o_c"
      },
      "execution_count": 108,
      "outputs": []
    },
    {
      "cell_type": "code",
      "source": [
        "# See which are 'stop'\n",
        "for idx, y in enumerate(y_test):\n",
        "    if y == 1:\n",
        "        print(idx)"
      ],
      "metadata": {
        "colab": {
          "base_uri": "https://localhost:8080/"
        },
        "id": "MUE1UrJi0rKS",
        "outputId": "f9dafed0-e5a6-4316-dffc-946ec1c90793"
      },
      "execution_count": 109,
      "outputs": [
        {
          "output_type": "stream",
          "name": "stdout",
          "text": [
            "3\n",
            "12\n",
            "14\n",
            "22\n",
            "29\n",
            "51\n",
            "62\n",
            "65\n",
            "66\n",
            "67\n",
            "72\n",
            "82\n",
            "84\n",
            "89\n",
            "90\n",
            "91\n",
            "92\n",
            "97\n",
            "105\n",
            "117\n",
            "125\n",
            "129\n",
            "144\n",
            "146\n",
            "162\n",
            "173\n",
            "187\n",
            "189\n",
            "192\n",
            "195\n",
            "199\n",
            "210\n",
            "211\n",
            "222\n",
            "230\n",
            "245\n",
            "247\n",
            "248\n",
            "252\n",
            "256\n",
            "264\n",
            "269\n",
            "270\n",
            "273\n",
            "282\n",
            "286\n",
            "287\n",
            "306\n",
            "307\n",
            "309\n",
            "310\n",
            "315\n",
            "325\n",
            "338\n",
            "345\n",
            "353\n",
            "356\n",
            "359\n",
            "362\n",
            "369\n",
            "371\n",
            "372\n",
            "373\n",
            "374\n",
            "378\n",
            "385\n",
            "386\n",
            "399\n",
            "400\n",
            "401\n",
            "413\n",
            "418\n",
            "426\n",
            "437\n",
            "442\n",
            "470\n",
            "471\n",
            "476\n",
            "486\n",
            "490\n",
            "493\n",
            "495\n",
            "499\n",
            "501\n",
            "502\n",
            "519\n",
            "522\n",
            "538\n",
            "539\n",
            "557\n",
            "564\n",
            "574\n",
            "576\n",
            "578\n",
            "582\n",
            "585\n",
            "588\n",
            "598\n",
            "603\n",
            "606\n",
            "607\n",
            "611\n",
            "614\n",
            "619\n",
            "621\n",
            "624\n",
            "638\n",
            "642\n",
            "646\n",
            "651\n",
            "658\n",
            "659\n",
            "660\n",
            "663\n",
            "664\n",
            "668\n",
            "674\n",
            "679\n",
            "687\n",
            "695\n",
            "703\n",
            "705\n",
            "712\n",
            "718\n",
            "725\n",
            "728\n",
            "730\n",
            "740\n",
            "744\n",
            "758\n",
            "771\n",
            "777\n",
            "783\n",
            "787\n",
            "802\n",
            "820\n",
            "827\n",
            "828\n",
            "829\n",
            "832\n",
            "838\n",
            "848\n",
            "850\n",
            "853\n",
            "856\n",
            "864\n",
            "866\n"
          ]
        }
      ]
    },
    {
      "cell_type": "code",
      "source": [
        "# TEST: Load model and run it against test set\n",
        "model = models.load_model(model_filename)\n",
        "for i in range(100, 110):\n",
        "    print('Answer:', y_test[i], ' Prediction:', model.predict(np.expand_dims(x_test[i], 0)))"
      ],
      "metadata": {
        "colab": {
          "base_uri": "https://localhost:8080/"
        },
        "id": "YH_1j7jv0uTO",
        "outputId": "04ec64d0-813d-4cb2-b3e5-d9701ada2b01"
      },
      "execution_count": 110,
      "outputs": [
        {
          "output_type": "stream",
          "name": "stdout",
          "text": [
            "Answer: 0.0  Prediction: [[2.249372e-07]]\n",
            "Answer: 0.0  Prediction: [[1.4669543e-11]]\n",
            "Answer: 0.0  Prediction: [[2.0393953e-09]]\n",
            "Answer: 0.0  Prediction: [[5.3752613e-10]]\n",
            "Answer: 0.0  Prediction: [[7.5677085e-06]]\n",
            "Answer: 1.0  Prediction: [[0.9999942]]\n",
            "Answer: 0.0  Prediction: [[1.31247365e-11]]\n",
            "Answer: 0.0  Prediction: [[7.422226e-14]]\n",
            "Answer: 0.0  Prediction: [[7.651901e-11]]\n",
            "Answer: 0.0  Prediction: [[7.0681144e-10]]\n"
          ]
        }
      ]
    },
    {
      "cell_type": "code",
      "source": [
        "# Evaluate model with test set\n",
        "model.evaluate(x=x_test, y=y_test)"
      ],
      "metadata": {
        "colab": {
          "base_uri": "https://localhost:8080/"
        },
        "id": "vpEbpjNM1Ac_",
        "outputId": "6a3a110c-6bc5-4d19-cbb5-d3166243a413"
      },
      "execution_count": 111,
      "outputs": [
        {
          "output_type": "stream",
          "name": "stdout",
          "text": [
            "28/28 [==============================] - 0s 4ms/step - loss: 0.1668 - acc: 0.9808\n"
          ]
        },
        {
          "output_type": "execute_result",
          "data": {
            "text/plain": [
              "[0.16680127382278442, 0.9807692170143127]"
            ]
          },
          "metadata": {},
          "execution_count": 111
        }
      ]
    },
    {
      "cell_type": "code",
      "source": [
        "from tensorflow import lite\n",
        "from tensorflow.keras import models"
      ],
      "metadata": {
        "id": "0j7BsILW1OSk"
      },
      "execution_count": 112,
      "outputs": []
    },
    {
      "cell_type": "code",
      "source": [
        "# Parameters\n",
        "keras_model_filename = '/content/Machine_Learning_Dataset/MyDrive/Machine_Learning_Dataset/wake_word_follow_model.h5'\n",
        "tflite_filename = '/content/Machine_Learning_Dataset/MyDrive/Machine_Learning_Dataset/wake_word_follow_lite.tflite'"
      ],
      "metadata": {
        "id": "6r1Jixp01Py7"
      },
      "execution_count": 113,
      "outputs": []
    },
    {
      "cell_type": "code",
      "source": [
        "# Convert model to TF Lite model\n",
        "model = models.load_model(keras_model_filename)\n",
        "converter = lite.TFLiteConverter.from_keras_model(model)\n",
        "tflite_model = converter.convert()\n",
        "open(tflite_filename, 'wb').write(tflite_model)"
      ],
      "metadata": {
        "colab": {
          "base_uri": "https://localhost:8080/"
        },
        "id": "OpY689oz1UZ8",
        "outputId": "e66198e2-8cf6-4bab-e1e6-ea6951a55e0a"
      },
      "execution_count": 114,
      "outputs": [
        {
          "output_type": "stream",
          "name": "stdout",
          "text": [
            "INFO:tensorflow:Assets written to: /tmp/tmptevrjvx3/assets\n"
          ]
        },
        {
          "output_type": "stream",
          "name": "stderr",
          "text": [
            "INFO:tensorflow:Assets written to: /tmp/tmptevrjvx3/assets\n",
            "WARNING:absl:Buffer deduplication procedure will be skipped when flatbuffer library is not properly loaded\n"
          ]
        },
        {
          "output_type": "execute_result",
          "data": {
            "text/plain": [
              "70788"
            ]
          },
          "metadata": {},
          "execution_count": 114
        }
      ]
    }
  ]
}